{
 "cells": [
  {
   "cell_type": "markdown",
   "id": "a39fe294",
   "metadata": {},
   "source": [
    "## Pen & paper\n",
    "\n",
    "Calculate vector projection $\\mathbf{v_1}$ of $\\mathbf{v}$ on $\\mathbf{u}$:\n",
    "\n",
    "\\begin{aligned}\n",
    "    \\mathbf{v_1} &= \\dfrac{\\mathbf{v \\cdot u}}{\\mathbf{u \\cdot u}} \\mathbf{u}\\\\\n",
    "    &= \\dfrac{\\left[1,-1,1 \\right] \\cdot \\left[\\frac{1}{3}, \\frac{-1}{3}, \\frac{1}{6} \\right]}{\\left[\\frac{1}{3}, \\frac{-1}{3}, \\frac{1}{6} \\right] \\cdot \\left[\\frac{1}{3}, \\frac{-1}{3}, \\frac{1}{6} \\right]} \\left[\\dfrac{1}{3}, \\dfrac{-1}{3}, \\dfrac{1}{6} \\right]\\\\\n",
    "    &= \\dfrac{1 \\frac{1}{3} + (-1)(\\frac{-1}{3} + 1 \\frac{1}{6})}{(\\frac{1}{3})^2 + (\\frac{-1}{3})^2 + (\\frac{1}{6})^2} \\left[\\dfrac{1}{3}, \\dfrac{-1}{3}, \\dfrac{1}{6} \\right]\\\\\n",
    "    &= \\dfrac{\\frac{1}{3} + \\frac{1}{3} + \\frac{1}{6}}{\\frac{1}{9} + \\frac{1}{9} + \\frac{1}{36}} \\left[\\dfrac{1}{3}, \\dfrac{-1}{3}, \\dfrac{1}{6} \\right]\\\\\n",
    "    &= \\dfrac{\\frac{2}{6} + \\frac{2}{6} + \\frac{1}{6}}{\\frac{4}{36} + \\frac{4}{36} + \\frac{1}{36}} \\left[\\dfrac{1}{3}, \\dfrac{-1}{3}, \\dfrac{1}{6} \\right]\\\\\n",
    "    &= \\dfrac{\\frac{5}{6}}{\\frac{9}{36}} \\left[\\dfrac{1}{3}, \\dfrac{-1}{3}, \\dfrac{1}{6} \\right]\\\\\n",
    "    &= \\dfrac{\\frac{5}{6}}{\\frac{1}{4}} \\left[\\dfrac{1}{3}, \\dfrac{-1}{3}, \\dfrac{1}{6} \\right]\\\\\n",
    "    &= \\dfrac{5}{6} \\cdot \\dfrac{4}{1} \\left[\\dfrac{1}{3}, \\dfrac{-1}{3}, \\dfrac{1}{6} \\right]\\\\\n",
    "    &= \\dfrac{5}{3 \\cdot 2} \\cdot \\dfrac{2 \\cdot 2}{1} \\left[\\dfrac{1}{3}, \\dfrac{-1}{3}, \\dfrac{1}{6} \\right]\\\\\n",
    "    &= \\dfrac{5}{3} \\cdot \\dfrac{2}{1} \\left[\\dfrac{1}{3}, \\dfrac{-1}{3}, \\dfrac{1}{6} \\right]\\\\\n",
    "    &= \\dfrac{10}{3} \\left[\\dfrac{1}{3}, \\dfrac{-1}{3}, \\dfrac{1}{6} \\right]\\\\\n",
    "    &= \\left[\\dfrac{10}{9}, \\dfrac{-10}{9}, \\dfrac{10}{18} \\right]\\\\\n",
    "    &= \\left[\\dfrac{10}{9}, \\dfrac{-10}{9}, \\dfrac{5 \\cdot 2}{9 \\cdot 2} \\right]\\\\\n",
    "    &= \\left[\\dfrac{10}{9}, \\dfrac{-10}{9}, \\dfrac{5}{9} \\right]\\\\\n",
    "\\end{aligned}\n",
    "\n",
    "and perpendicular component $\\mathbf{v_2} = \\mathbf{v} - \\mathbf{v_1}$\n",
    "\n",
    "\\begin{aligned}\n",
    "    \\mathbf{v_2} &= \\left[1,-1,1 \\right] - \\left[\\dfrac{10}{9}, \\dfrac{-10}{9}, \\dfrac{5}{9} \\right]\\\\\n",
    "    &= \\left[ \\dfrac{9}{9} - \\dfrac{10}{9}, \\dfrac{-9}{9} - \\dfrac{-10}{9}, \\dfrac{9}{9} - \\dfrac{5}{9} \\right]\\\\\n",
    "    &= \\left[ \\dfrac{-1}{9}, \\dfrac{1}{9}, \\dfrac{4}{9} \\right]\\\\\n",
    "\\end{aligned}"
   ]
  },
  {
   "cell_type": "markdown",
   "id": "bae4414f",
   "metadata": {},
   "source": [
    "## \"Symbolically\" using sympy"
   ]
  },
  {
   "cell_type": "code",
   "execution_count": 1,
   "id": "62b55351",
   "metadata": {
    "scrolled": true
   },
   "outputs": [
    {
     "data": {
      "image/png": "[encoded data removed]",
      "text/latex": [
       "$\\displaystyle \\left[\\begin{matrix}1\\\\-1\\\\1\\end{matrix}\\right]$"
      ],
      "text/plain": [
       "⎡1 ⎤\n",
       "⎢  ⎥\n",
       "⎢-1⎥\n",
       "⎢  ⎥\n",
       "⎣1 ⎦"
      ]
     },
     "execution_count": 1,
     "metadata": {},
     "output_type": "execute_result"
    }
   ],
   "source": [
    "import sympy as sp\n",
    "sp.init_printing(use_latex=(True), wrap_line=(False))  # Initialise LaTeX printing\n",
    "\n",
    "v = sp.Matrix([1,-1,1])\n",
    "v"
   ]
  },
  {
   "cell_type": "code",
   "execution_count": 2,
   "id": "ae65efdd",
   "metadata": {
    "scrolled": true
   },
   "outputs": [
    {
     "data": {
      "image/png": "[encoded data removed]",
      "text/latex": [
       "$\\displaystyle \\left[\\begin{matrix}\\frac{1}{3}\\\\- \\frac{1}{3}\\\\\\frac{1}{6}\\end{matrix}\\right]$"
      ],
      "text/plain": [
       "⎡1/3 ⎤\n",
       "⎢    ⎥\n",
       "⎢-1/3⎥\n",
       "⎢    ⎥\n",
       "⎣1/6 ⎦"
      ]
     },
     "execution_count": 2,
     "metadata": {},
     "output_type": "execute_result"
    }
   ],
   "source": [
    "u = sp.Matrix([sp.Rational(1, 3), sp.Rational(-1, 3), sp.Rational(1, 6)])  # Use sp.Rational() to prevent decimals\n",
    "u"
   ]
  },
  {
   "cell_type": "code",
   "execution_count": 3,
   "id": "3d9800ec",
   "metadata": {
    "scrolled": true
   },
   "outputs": [
    {
     "data": {
      "image/png": "[encoded data removed]",
      "text/latex": [
       "$\\displaystyle \\left[\\begin{matrix}\\frac{10}{9}\\\\- \\frac{10}{9}\\\\\\frac{5}{9}\\end{matrix}\\right]$"
      ],
      "text/plain": [
       "⎡10/9 ⎤\n",
       "⎢     ⎥\n",
       "⎢-10/9⎥\n",
       "⎢     ⎥\n",
       "⎣ 5/9 ⎦"
      ]
     },
     "execution_count": 3,
     "metadata": {},
     "output_type": "execute_result"
    }
   ],
   "source": [
    "# Calculate projection v1 of v on u\n",
    "v1 = ((v.dot(u))/(u.dot(u)))*u\n",
    "v1"
   ]
  },
  {
   "cell_type": "markdown",
   "id": "15406fa3",
   "metadata": {},
   "source": [
    "Perpendicular component $v_2 = v - v_1$"
   ]
  },
  {
   "cell_type": "code",
   "execution_count": 4,
   "id": "108c2875",
   "metadata": {},
   "outputs": [
    {
     "data": {
      "image/png": "[encoded data removed]",
      "text/latex": [
       "$\\displaystyle \\left[\\begin{matrix}- \\frac{1}{9}\\\\\\frac{1}{9}\\\\\\frac{4}{9}\\end{matrix}\\right]$"
      ],
      "text/plain": [
       "⎡-1/9⎤\n",
       "⎢    ⎥\n",
       "⎢1/9 ⎥\n",
       "⎢    ⎥\n",
       "⎣4/9 ⎦"
      ]
     },
     "execution_count": 4,
     "metadata": {},
     "output_type": "execute_result"
    }
   ],
   "source": [
    "v2 = v - v1\n",
    "v2"
   ]
  },
  {
   "cell_type": "markdown",
   "id": "c2f1b0b2",
   "metadata": {},
   "source": [
    "## Numerically using numpy"
   ]
  },
  {
   "cell_type": "code",
   "execution_count": 5,
   "id": "56d850b4",
   "metadata": {},
   "outputs": [
    {
     "data": {
      "text/plain": [
       "array([ 1.11111111, -1.11111111,  0.55555556])"
      ]
     },
     "execution_count": 5,
     "metadata": {},
     "output_type": "execute_result"
    }
   ],
   "source": [
    "import numpy as np\n",
    "\n",
    "# Create vectors v & u\n",
    "v = np.array([1,-1,1])\n",
    "u = np.array([1/3,-1/3,1/6])\n",
    "\n",
    "# Calculate projection of v on u\n",
    "v1 = ((v.dot(u))/(u.dot(u)))*u\n",
    "v1"
   ]
  },
  {
   "cell_type": "markdown",
   "id": "12f7946d",
   "metadata": {},
   "source": [
    "Perpendicular component $v_2 = v - v_1$"
   ]
  },
  {
   "cell_type": "code",
   "execution_count": 6,
   "id": "b65aa529",
   "metadata": {},
   "outputs": [
    {
     "data": {
      "text/plain": [
       "array([-0.11111111,  0.11111111,  0.44444444])"
      ]
     },
     "execution_count": 6,
     "metadata": {},
     "output_type": "execute_result"
    }
   ],
   "source": [
    "v2 = v - v1\n",
    "v2"
   ]
  }
 ],
 "metadata": {
  "kernelspec": {
   "display_name": "Python 3 (ipykernel)",
   "language": "python",
   "name": "python3"
  },
  "language_info": {
   "codemirror_mode": {
    "name": "ipython",
    "version": 3
   },
   "file_extension": ".py",
   "mimetype": "text/x-python",
   "name": "python",
   "nbconvert_exporter": "python",
   "pygments_lexer": "ipython3",
   "version": "3.9.7"
  }
 },
 "nbformat": 4,
 "nbformat_minor": 5
}
